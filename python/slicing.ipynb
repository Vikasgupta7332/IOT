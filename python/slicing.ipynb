{
 "cells": [
  {
   "cell_type": "code",
   "execution_count": 2,
   "id": "179d79a6-7837-4509-b94d-bce652d0b0d3",
   "metadata": {},
   "outputs": [],
   "source": [
    "#slicing "
   ]
  },
  {
   "cell_type": "code",
   "execution_count": 7,
   "id": "7f22a0cf-ee39-4243-9fa9-13a82296d620",
   "metadata": {},
   "outputs": [
    {
     "name": "stdout",
     "output_type": "stream",
     "text": [
      "Sorted numbers: [1, 5, 6, 9, 10, 25, 25]\n",
      "Reversed numbers: [25, 25, 10, 9, 6, 5, 1]\n",
      "['m']\n",
      "['m', 'n', 'o', 'p']\n"
     ]
    }
   ],
   "source": [
    "numbers = [1,5,6,10,25,9,25]\n",
    "numbers.sort()\n",
    "print(\"Sorted numbers:\", numbers)\n",
    "\n",
    "numbers.reverse()\n",
    "print(\"Reversed numbers:\", numbers) \n",
    "\n",
    "alphabet = [\"m\",\"n\",\"o\",\"p\",\"i\",\"j\"]\n",
    "\n",
    "print(alphabet[0:1])\n",
    "print(alphabet[0:4:1])"
   ]
  },
  {
   "cell_type": "code",
   "execution_count": 8,
   "id": "e857c5d3-8855-4f1a-bcf1-c5ea9e83f468",
   "metadata": {},
   "outputs": [
    {
     "name": "stdout",
     "output_type": "stream",
     "text": [
      "['m', 'o']\n"
     ]
    }
   ],
   "source": [
    "print(alphabet[0:4:2])"
   ]
  },
  {
   "cell_type": "code",
   "execution_count": 10,
   "id": "ab7f2401-007e-464a-9d1f-70ae950bfeda",
   "metadata": {},
   "outputs": [
    {
     "name": "stdout",
     "output_type": "stream",
     "text": [
      "['j', 'i', 'p', 'o', 'n', 'm']\n"
     ]
    }
   ],
   "source": [
    "print(alphabet[-1::-1])"
   ]
  },
  {
   "cell_type": "code",
   "execution_count": null,
   "id": "f506cda4-174a-4473-a3bb-5676b0f5bb65",
   "metadata": {},
   "outputs": [],
   "source": []
  }
 ],
 "metadata": {
  "kernelspec": {
   "display_name": "Python 3 (ipykernel)",
   "language": "python",
   "name": "python3"
  },
  "language_info": {
   "codemirror_mode": {
    "name": "ipython",
    "version": 3
   },
   "file_extension": ".py",
   "mimetype": "text/x-python",
   "name": "python",
   "nbconvert_exporter": "python",
   "pygments_lexer": "ipython3",
   "version": "3.13.5"
  }
 },
 "nbformat": 4,
 "nbformat_minor": 5
}
