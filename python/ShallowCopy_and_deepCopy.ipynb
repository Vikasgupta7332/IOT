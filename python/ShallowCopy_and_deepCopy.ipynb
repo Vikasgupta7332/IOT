{
 "cells": [
  {
   "cell_type": "markdown",
   "id": "e24dc0f5-373a-4582-a8c6-08b5c97c3fe3",
   "metadata": {
    "panel-layout": {
     "height": 51.140625,
     "visible": true,
     "width": 100
    }
   },
   "source": [
    "# Shallow Copy and Deep Copy"
   ]
  },
  {
   "cell_type": "markdown",
   "id": "aad2c1ca-9872-40f2-a917-23b2dfa24ee1",
   "metadata": {
    "panel-layout": {
     "height": 255.125,
     "visible": true,
     "width": 100
    }
   },
   "source": [
    "# => Shallow Copy (Surface Copy)\n",
    "\n",
    "- Makes a new container (like a list or dictionary), but the inside stuff (elements) are not copied. Instead, both the original and the copy point to the same inside stuff.\n",
    "\n",
    "- If you change something inside (like a list inside a list), both the original and the copy will see the change.\n",
    "\n",
    "- Imagine making a photocopy of a folder: you get a new folder, but the papers inside are the same originals, not new copies.\n",
    "\n",
    "# => Deep Copy (Full Copy)\n",
    "\n",
    "- Makes a new container and also makes new copies of everything inside, even if it’s nested or inside other containers.\n",
    "\n",
    "- If you change something inside the deep copy, the original stays the same.\n",
    "\n",
    "- Imagine making a photocopy of a folder and also photocopying all the papers inside, so everything is new and separate.\n",
    "\n"
   ]
  },
  {
   "cell_type": "markdown",
   "id": "5cde666f-0787-4ab0-be9f-9dbbf04e76e9",
   "metadata": {
    "panel-layout": {
     "height": 284.265625,
     "visible": true,
     "width": 100
    }
   },
   "source": [
    "# Python में Shallow Copy और Deep Copy क्या है? (बहुत आसान भाषा में)\n",
    "\n",
    "# =>Shallow Copy (ऊपरी/सतही कॉपी):-\n",
    "\n",
    "- Shallow copy में सिर्फ बाहर का डिब्बा (जैसे list या dictionary) नया बनता है, लेकिन उसके अंदर जो चीज़ें रखी हैं, वो पुरानी ही रहती हैं।\n",
    "\n",
    "- मतलब, अगर आप अंदर की चीज़ (जैसे list के अंदर list) को बदलते हैं, तो असली (original) और कॉपी दोनों में बदलाव दिखेगा।\n",
    "\n",
    "- इसे ऐसे समझो: आपने एक फोल्डर की फोटो कॉपी करवाई, लेकिन अंदर के कागज वही पुराने हैं, नए नहीं बने।\n",
    "\n",
    "# => Deep Copy (पूरी/गहरी कॉपी):-\n",
    "\n",
    "- Deep copy में बाहर का डिब्बा भी नया बनता है और उसके अंदर की सारी चीज़ें भी पूरी तरह से नई कॉपी बनती हैं।\n",
    "\n",
    "- अब अगर आप कॉपी में कुछ भी बदलते हैं, तो असली (original) में कोई फर्क नहीं पड़ेगा।\n",
    "\n",
    "- जैसे आपने फोल्डर की फोटो कॉपी करवाई और उसके अंदर के हर कागज की भी अलग-अलग फोटो कॉपी करवाई, सब कुछ नया है।"
   ]
  },
  {
   "cell_type": "code",
   "execution_count": 2,
   "id": "6d3f4495-d2c8-444b-bfb8-5a2486aa51f6",
   "metadata": {
    "panel-layout": {
     "height": 0,
     "visible": true,
     "width": 100
    }
   },
   "outputs": [
    {
     "name": "stdout",
     "output_type": "stream",
     "text": [
      "[[99, 2], [3, 4]]\n",
      "[[99, 2], [3, 4]]\n"
     ]
    }
   ],
   "source": [
    "import copy\n",
    "\n",
    "original = [[1, 2], [3, 4]]\n",
    "\n",
    "shallow = copy.copy(original)    # Shallow copy\n",
    "deep = copy.deepcopy(original)   # Deep copy\n",
    "\n",
    "shallow[0][0] = 99\n",
    "print(original)  # Output: [[99, 2], [3, 4]]  (original भी बदल गया!)\n",
    "\n",
    "deep[0][0] = 42\n",
    "print(original)  # Output: [[99, 2], [3, 4]]  (original नहीं बदला)\n"
   ]
  },
  {
   "cell_type": "code",
   "execution_count": null,
   "id": "b4fbadd3-5d0f-4b38-9dba-49332812b67a",
   "metadata": {},
   "outputs": [],
   "source": []
  }
 ],
 "metadata": {
  "kernelspec": {
   "display_name": "Python 3 (ipykernel)",
   "language": "python",
   "name": "python3"
  },
  "language_info": {
   "codemirror_mode": {
    "name": "ipython",
    "version": 3
   },
   "file_extension": ".py",
   "mimetype": "text/x-python",
   "name": "python",
   "nbconvert_exporter": "python",
   "pygments_lexer": "ipython3",
   "version": "3.13.5"
  },
  "panel-cell-order": [
   "e24dc0f5-373a-4582-a8c6-08b5c97c3fe3",
   "aad2c1ca-9872-40f2-a917-23b2dfa24ee1",
   "5cde666f-0787-4ab0-be9f-9dbbf04e76e9",
   "6d3f4495-d2c8-444b-bfb8-5a2486aa51f6"
  ],
  "widgets": {
   "application/vnd.jupyter.widget-state+json": {
    "state": {},
    "version_major": 2,
    "version_minor": 0
   }
  }
 },
 "nbformat": 4,
 "nbformat_minor": 5
}
