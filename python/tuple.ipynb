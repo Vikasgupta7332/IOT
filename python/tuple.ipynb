{
 "cells": [
  {
   "cell_type": "markdown",
   "id": "18a41b22-bcc5-42ea-8ca2-4b6213242159",
   "metadata": {},
   "source": [
    "Tuple is immutable"
   ]
  },
  {
   "cell_type": "code",
   "execution_count": 1,
   "id": "7d8cd19c-256b-4e05-8115-ec521518beb7",
   "metadata": {},
   "outputs": [],
   "source": [
    "numtup=(1,2,3)"
   ]
  },
  {
   "cell_type": "code",
   "execution_count": 3,
   "id": "6515079b-2307-4014-b7cf-fc18cee87bf6",
   "metadata": {},
   "outputs": [
    {
     "name": "stdout",
     "output_type": "stream",
     "text": [
      "(1, 2, 3)\n",
      "<class 'tuple'>\n"
     ]
    }
   ],
   "source": [
    "print(numtup)\n",
    "print(type(numtup))"
   ]
  },
  {
   "cell_type": "code",
   "execution_count": 6,
   "id": "f914b662-3834-4a34-a63a-2439c5fe2ff9",
   "metadata": {},
   "outputs": [],
   "source": [
    "single_member_tup = (\"vikas\",) # comma is important"
   ]
  },
  {
   "cell_type": "code",
   "execution_count": 7,
   "id": "b2404197-0bcf-4e41-96e0-a3c01df19d39",
   "metadata": {},
   "outputs": [
    {
     "name": "stdout",
     "output_type": "stream",
     "text": [
      "('vikas',)\n"
     ]
    }
   ],
   "source": [
    "print(single_member_tup)"
   ]
  },
  {
   "cell_type": "code",
   "execution_count": null,
   "id": "11fb6da4-51eb-4c2a-a604-e2b4e56cc0ab",
   "metadata": {},
   "outputs": [],
   "source": []
  }
 ],
 "metadata": {
  "kernelspec": {
   "display_name": "Python 3 (ipykernel)",
   "language": "python",
   "name": "python3"
  },
  "language_info": {
   "codemirror_mode": {
    "name": "ipython",
    "version": 3
   },
   "file_extension": ".py",
   "mimetype": "text/x-python",
   "name": "python",
   "nbconvert_exporter": "python",
   "pygments_lexer": "ipython3",
   "version": "3.13.5"
  }
 },
 "nbformat": 4,
 "nbformat_minor": 5
}
