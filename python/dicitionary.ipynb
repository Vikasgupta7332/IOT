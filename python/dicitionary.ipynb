{
 "cells": [
  {
   "cell_type": "markdown",
   "id": "a200f0fd-0ed6-4c2c-9df5-206441aa34da",
   "metadata": {
    "panel-layout": {
     "height": 103.03125,
     "visible": true,
     "width": 100
    }
   },
   "source": [
    "# A dicitionary is a built-in python data structure that stores data in key-value pairs.\n",
    "# Thinks of it like a real world dicitionary where each word (key) has a definition (value)"
   ]
  },
  {
   "cell_type": "code",
   "execution_count": 17,
   "id": "354566d8-161b-4c61-87e2-4f6331816c3d",
   "metadata": {},
   "outputs": [],
   "source": [
    "import json"
   ]
  },
  {
   "cell_type": "code",
   "execution_count": 18,
   "id": "6f3dad09-fa66-47ec-9e55-532dbf4496fb",
   "metadata": {},
   "outputs": [],
   "source": [
    "sensor_data = {\n",
    "    \"sensor\" : \"DHT11\",\n",
    "    \"temperature\" : 27,\n",
    "    \"humditity\" : 92,\n",
    "    \"protocol_supported\" : [\"one wire\", \"I2c\"]\n",
    "}"
   ]
  },
  {
   "cell_type": "code",
   "execution_count": 19,
   "id": "c066f3d3-592c-4587-977f-a99ca3c9f209",
   "metadata": {
    "panel-layout": {
     "height": 0,
     "visible": true,
     "width": 100
    }
   },
   "outputs": [
    {
     "name": "stdout",
     "output_type": "stream",
     "text": [
      "{'sensor': 'DHT11', 'temperature': 27, 'humditity': 92, 'protocol_supported': ['one wire', 'I2c']}\n"
     ]
    }
   ],
   "source": [
    "print(sensor_data)"
   ]
  },
  {
   "cell_type": "markdown",
   "id": "dd342794-ecc6-4323-9267-b09d5e2a871b",
   "metadata": {
    "panel-layout": {
     "height": 187.90625,
     "visible": true,
     "width": 100
    }
   },
   "source": [
    "# Q) Create a new dictionary which is empty with name student_details. Later add two new key \n",
    "# student_name\n",
    "# student_branch\n",
    "# and display the student_name"
   ]
  },
  {
   "cell_type": "code",
   "execution_count": 20,
   "id": "d6e9675f-0e6b-4c6a-9ea2-3e165e0783ba",
   "metadata": {},
   "outputs": [],
   "source": [
    "student_details = {\n",
    "    \n",
    "}"
   ]
  },
  {
   "cell_type": "code",
   "execution_count": 21,
   "id": "9929feba-2333-40d1-8741-8a649ebc9286",
   "metadata": {},
   "outputs": [],
   "source": [
    "student_details[\"Name\"] = \"Vikas\"\n",
    "student_details[\"Branch\"] = \"CSE\""
   ]
  },
  {
   "cell_type": "code",
   "execution_count": 22,
   "id": "44ddad9b-1baa-4a26-8e88-8376d93a3e22",
   "metadata": {
    "panel-layout": {
     "height": 0,
     "visible": true,
     "width": 100
    }
   },
   "outputs": [
    {
     "name": "stdout",
     "output_type": "stream",
     "text": [
      "Vikas\n"
     ]
    }
   ],
   "source": [
    "print(student_details[\"Name\"])"
   ]
  },
  {
   "cell_type": "markdown",
   "id": "3505139d-a36a-44ec-8023-be4e026657ed",
   "metadata": {
    "panel-layout": {
     "height": 60.59375,
     "visible": true,
     "width": 100
    }
   },
   "source": [
    "# convert into Json string"
   ]
  },
  {
   "cell_type": "code",
   "execution_count": 27,
   "id": "bc4ddecf-f239-4396-b32b-83596bc09a45",
   "metadata": {
    "panel-layout": {
     "height": 0,
     "visible": true,
     "width": 100
    }
   },
   "outputs": [
    {
     "name": "stdout",
     "output_type": "stream",
     "text": [
      "{\n",
      "    \"Name\": \"Vikas\",\n",
      "    \"Branch\": \"CSE\"\n",
      "}\n"
     ]
    }
   ],
   "source": [
    "print(json.dumps(student_details,indent=4))"
   ]
  },
  {
   "cell_type": "code",
   "execution_count": 29,
   "id": "8a03863c-4cbb-4ce9-8123-6fe2014a8f3a",
   "metadata": {},
   "outputs": [
    {
     "name": "stdout",
     "output_type": "stream",
     "text": [
      "{'ayush': {'course_completed': 'B.tech', 'is_active_in_desd_batch_25': True, 'favorite_subjects': ['EOS', 'EDD'], 'attendence': 97}, 'nilay': {'course_completed': 'B.tech', 'is_active_in_desd_batch_25': True, 'favorite_subjects': ['RTOS', 'EDD'], 'attendence': 85}}\n",
      "{\n",
      "    \"course_completed\": \"B.tech\",\n",
      "    \"is_active_in_desd_batch_25\": true,\n",
      "    \"favorite_subjects\": [\n",
      "        \"RTOS\",\n",
      "        \"EDD\"\n",
      "    ],\n",
      "    \"attendence\": 85\n",
      "}\n",
      "{\n",
      "    \"course_completed\": \"B.tech\",\n",
      "    \"is_active_in_desd_batch_25\": true,\n",
      "    \"favorite_subjects\": [\n",
      "        \"RTOS\",\n",
      "        \"EDD\"\n",
      "    ],\n",
      "    \"attendence\": 85\n",
      "}\n"
     ]
    }
   ],
   "source": [
    "student_data = {\n",
    "    \"ayush\":\n",
    "    {\n",
    "        \"course_completed\": \"B.tech\",\n",
    "        \"is_active_in_desd_batch_25\": True,\n",
    "        \"favorite_subjects\" : [\"EOS\",\"EDD\"],\n",
    "        \"attendence\": 97\n",
    "    },\n",
    "    \"nilay\":\n",
    "    {\n",
    "        \"course_completed\": \"B.tech\",\n",
    "        \"is_active_in_desd_batch_25\": True,\n",
    "        \"favorite_subjects\" : [\"RTOS\",\"EDD\"],\n",
    "        \"attendence\": 85\n",
    "    }\n",
    "}\n",
    "print(student_data)\n",
    "print(json.dumps(student_data[\"nilay\"],indent=4))\n",
    "print(json.dumps(student_data[\"nilay\"],indent=4))"
   ]
  },
  {
   "cell_type": "code",
   "execution_count": 31,
   "id": "00ecfd94-a1d9-4ff3-b706-d88055351aa2",
   "metadata": {},
   "outputs": [
    {
     "name": "stdout",
     "output_type": "stream",
     "text": [
      "{'ayush': {'course_completed': 'B.tech', 'is_active_in_desd_batch_25': True, 'favorite_subjects': ['EOS', 'EDD'], 'attendence%': 97}, 'nilay': {'course_completed': 'B.tech', 'is_active_in_desd_batch_25': True, 'favorite_subjects': ['RTOS', 'EDD'], 'attendence%': 85}}\n",
      "{\n",
      "    \"course_completed\": \"B.tech\",\n",
      "    \"is_active_in_desd_batch_25\": true,\n",
      "    \"favorite_subjects\": [\n",
      "        \"RTOS\",\n",
      "        \"EDD\"\n",
      "    ],\n",
      "    \"attendence%\": 85\n",
      "}\n",
      "Nilay details : \n",
      "{\n",
      "    \"course_completed\": \"B.tech\",\n",
      "    \"is_active_in_desd_batch_25\": true,\n",
      "    \"favorite_subjects\": [\n",
      "        \"RTOS\",\n",
      "        \"EDD\"\n",
      "    ],\n",
      "    \"attendence%\": 85,\n",
      "    \"is_eligible_for_CCEE\": true\n",
      "}\n",
      "incorrect\n"
     ]
    }
   ],
   "source": [
    "student_data = {\n",
    "    \"ayush\":\n",
    "    {\n",
    "        \"course_completed\": \"B.tech\",\n",
    "        \"is_active_in_desd_batch_25\": True,\n",
    "        \"favorite_subjects\" : [\"EOS\",\"EDD\"],\n",
    "        \"attendence%\": 97\n",
    "    },\n",
    "    \"nilay\":\n",
    "    {\n",
    "        \"course_completed\": \"B.tech\",\n",
    "        \"is_active_in_desd_batch_25\": True,\n",
    "        \"favorite_subjects\" : [\"RTOS\",\"EDD\"],\n",
    "        \"attendence%\": 85\n",
    "    }\n",
    "}\n",
    "print(student_data)\n",
    "print(json.dumps(student_data[\"nilay\"],indent=4))\n",
    "student_data['nilay']['is_eligible_for_CCEE'] = True\n",
    "print(\"Nilay details : \")\n",
    "print(json.dumps(student_data[\"nilay\"],indent=4))\n",
    "if 'm' in student_data :\n",
    "    print(student_data['m'])\n",
    "else :\n",
    "    print(\"incorrect\")\n"
   ]
  },
  {
   "cell_type": "code",
   "execution_count": 32,
   "id": "3f4616fa-f837-4828-bf35-c03725ee5227",
   "metadata": {},
   "outputs": [
    {
     "name": "stdout",
     "output_type": "stream",
     "text": [
      "{'R': 6001, 'M': 6002, 'S': 6003, 'G': 6004}\n"
     ]
    }
   ],
   "source": [
    "student_name = [\"R\",\"M\",\"S\",\"G\"]\n",
    "prn_number = [6001,6002,6003,6004]\n",
    "student_data = dict(zip(student_name,prn_number))\n",
    "print(student_data)"
   ]
  },
  {
   "cell_type": "code",
   "execution_count": 35,
   "id": "7672b266-2138-4d2a-af49-8c942a099b54",
   "metadata": {},
   "outputs": [
    {
     "name": "stdout",
     "output_type": "stream",
     "text": [
      "{'R': 6001, 'M': 6002, 'S': 6003, 'G': 6004}\n",
      "{\n",
      "  \"R\": 6001\n",
      "}\n",
      "{\n",
      "  \"R\": 6001,\n",
      "  \"M\": 6002\n",
      "}\n",
      "{\n",
      "  \"R\": 6001,\n",
      "  \"M\": 6002,\n",
      "  \"S\": 6003\n",
      "}\n",
      "{\n",
      "  \"R\": 6001,\n",
      "  \"M\": 6002,\n",
      "  \"S\": 6003,\n",
      "  \"G\": 6004\n",
      "}\n"
     ]
    }
   ],
   "source": [
    "import json\n",
    "student_name = [\"R\",\"M\",\"S\",\"G\"]\n",
    "prn_number = [6001,6002,6003,6004,6005]\n",
    "student_data = dict(zip(student_name,prn_number))\n",
    "print(student_data)\n",
    "\n",
    "# create a empty dictionary\n",
    "student_profile = {}\n",
    "for value in range (len(student_name)):\n",
    "    student_profile[student_name[value]] = prn_number[value]\n",
    "\n",
    "    print(json.dumps(student_profile,indent=2))\n",
    "    "
   ]
  },
  {
   "cell_type": "code",
   "execution_count": 45,
   "id": "80f00162-e5aa-40d1-b478-79bf4fc8db09",
   "metadata": {},
   "outputs": [
    {
     "name": "stdout",
     "output_type": "stream",
     "text": [
      "{'R': 6001, 'M': 6002, 'S': 6003, 'G': 6004}\n",
      "{\n",
      "  \"R\": 6001,\n",
      "  \"M\": 6002,\n",
      "  \"S\": 6003,\n",
      "  \"G\": 6004\n",
      "}\n",
      "{\n",
      "  \"M\": 6002,\n",
      "  \"S\": 6003,\n",
      "  \"G\": 6004\n",
      "}\n",
      "M\n",
      "S\n",
      "G\n",
      "6002\n",
      "6003\n",
      "6004\n",
      "M : 6002\n",
      "S : 6003\n",
      "G : 6004\n"
     ]
    }
   ],
   "source": [
    "import json\n",
    "student_name = [\"R\",\"M\",\"S\",\"G\"]\n",
    "prn_number = [6001,6002,6003,6004,6005]\n",
    "student_data = dict(zip(student_name,prn_number))\n",
    "print(student_data)\n",
    "\n",
    "# create a empty dictionary\n",
    "\n",
    "student_profile = {}\n",
    "for value in range (len(student_name)):\n",
    "    student_profile[student_name[value]] = prn_number[value] \n",
    "    \n",
    "\n",
    "print(json.dumps(student_profile,indent=2))\n",
    "del student_profile[\"R\"]\n",
    "# student_profile.pop(\"M\")\n",
    "\n",
    "print(json.dumps(student_profile,indent=2))\n",
    "\n",
    "# iterate over keys \n",
    "for name in student_profile.keys():\n",
    "    print(name)\n",
    "# iterate over values\n",
    "for name in student_profile.values():\n",
    "    print(name)\n",
    "for name, prn in student_profile.items():\n",
    "    print(f\"{name} : {prn}\") \n",
    "    "
   ]
  },
  {
   "cell_type": "code",
   "execution_count": 46,
   "id": "10cfa90c-d0d5-48b5-b93f-ccd1eb996647",
   "metadata": {},
   "outputs": [
    {
     "name": "stdout",
     "output_type": "stream",
     "text": [
      "{'R': 6001, 'M': 6002, 'S': 6003, 'G': 6004}\n",
      "{\n",
      "  \"R\": 6001,\n",
      "  \"M\": 6002,\n",
      "  \"S\": 6003,\n",
      "  \"G\": 6004\n",
      "}\n",
      "{\n",
      "  \"M\": 6002,\n",
      "  \"S\": 6003,\n",
      "  \"G\": 6004\n",
      "}\n",
      "M\n",
      "S\n",
      "G\n",
      "6002\n",
      "6003\n",
      "6004\n",
      "M : 6002\n",
      "S : 6003\n",
      "G : 6004\n",
      "6002\n",
      "None\n"
     ]
    }
   ],
   "source": [
    "import json\n",
    "student_name = [\"R\",\"M\",\"S\",\"G\"]\n",
    "prn_number = [6001,6002,6003,6004,6005]\n",
    "student_data = dict(zip(student_name,prn_number))\n",
    "print(student_data)\n",
    "\n",
    "# create a empty dictionary\n",
    "\n",
    "student_profile = {}\n",
    "for value in range (len(student_name)):\n",
    "    student_profile[student_name[value]] = prn_number[value] \n",
    "    \n",
    "\n",
    "print(json.dumps(student_profile,indent=2))\n",
    "del student_profile[\"R\"]\n",
    "# student_profile.pop(\"M\")\n",
    "\n",
    "print(json.dumps(student_profile,indent=2))\n",
    "\n",
    "# iterate over keys \n",
    "for name in student_profile.keys():\n",
    "    print(name)\n",
    "# iterate over values\n",
    "for name in student_profile.values():\n",
    "    print(name)\n",
    "for name, prn in student_profile.items():\n",
    "    print(f\"{name} : {prn}\") \n",
    "# we need prn nummber of M feom dictionary  student_profile\n",
    "\n",
    "print(student_profile.get(\"M\"))\n",
    "print(student_profile.get(\"P\"))\n",
    "\n"
   ]
  },
  {
   "cell_type": "code",
   "execution_count": 56,
   "id": "db2791ba-bb92-414f-9e8f-484b21886882",
   "metadata": {},
   "outputs": [
    {
     "name": "stdout",
     "output_type": "stream",
     "text": [
      "{'R': 6001, 'M': 6002, 'S': 6003, 'G': 6004}\n",
      "{\n",
      "  \"R\": 6001,\n",
      "  \"M\": 6002,\n",
      "  \"S\": 6003,\n",
      "  \"G\": 6004\n",
      "}\n",
      "{\n",
      "  \"M\": 6002,\n",
      "  \"S\": 6003,\n",
      "  \"G\": 6004\n",
      "}\n",
      "M\n",
      "S\n",
      "G\n",
      "6002\n",
      "6003\n",
      "6004\n",
      "M : 6002\n",
      "S : 6003\n",
      "G : 6004\n",
      "6002\n",
      "None\n",
      "Chetak\n"
     ]
    }
   ],
   "source": [
    "import json\n",
    "student_name = [\"R\",\"M\",\"S\",\"G\"]\n",
    "prn_number = [6001,6002,6003,6004,6005]\n",
    "student_data = dict(zip(student_name,prn_number))\n",
    "print(student_data)\n",
    "\n",
    "# create a empty dictionary\n",
    "\n",
    "student_profile = {}\n",
    "for value in range (len(student_name)):\n",
    "    student_profile[student_name[value]] = prn_number[value] \n",
    "    \n",
    "\n",
    "print(json.dumps(student_profile,indent=2))\n",
    "del student_profile[\"R\"]\n",
    "# student_profile.pop(\"M\")\n",
    "\n",
    "print(json.dumps(student_profile,indent=2))\n",
    "\n",
    "# iterate over keys \n",
    "for name in student_profile.keys():\n",
    "    print(name)\n",
    "# iterate over values\n",
    "for name in student_profile.values():\n",
    "    print(name)\n",
    "for name, prn in student_profile.items():\n",
    "    print(f\"{name} : {prn}\") \n",
    "# we need prn nummber of M from dictionary  student_profile\n",
    "\n",
    "print(student_profile.get(\"M\"))\n",
    "print(student_profile.get(\"P\"))\n",
    "# what if p us not present or overwrite\n",
    "print(student_profile.get(\"P\",\"Chetak\"))\n"
   ]
  },
  {
   "cell_type": "code",
   "execution_count": 44,
   "id": "64ee1863-eb54-4214-86ed-458519700d05",
   "metadata": {},
   "outputs": [
    {
     "name": "stdout",
     "output_type": "stream",
     "text": [
      "{'R': 6001, 'M': 6002, 'S': 6003, 'G': 6004}\n",
      "R\n",
      "M\n",
      "S\n",
      "G\n",
      "6001\n",
      "6002\n",
      "6003\n",
      "6004\n",
      "R : 6001\n",
      "M : 6002\n",
      "S : 6003\n",
      "G : 6004\n"
     ]
    }
   ],
   "source": [
    "import json\n",
    "student_name = [\"R\",\"M\",\"S\",\"G\"]\n",
    "prn_number = [6001,6002,6003,6004,6005]\n",
    "student_data = dict(zip(student_name,prn_number))\n",
    "print(student_data)\n",
    "\n",
    "# create a empty dictionary\n",
    "student_profile = {}\n",
    "for value in range (len(student_name)):\n",
    "    student_profile[student_name[value]] = prn_number[value] \n",
    "    \n",
    "\n",
    "# print(json.dumps(student_profile,indent=2))\n",
    "# del student_profile[\"R\"]\n",
    "# student_profile.pop(\"M\")\n",
    "\n",
    "# print(json.dumps(student_profile,indent=2))\n",
    "\n",
    "# iterate over keys \n",
    "for name in student_profile.keys():\n",
    "    print(name)\n",
    "# iterate over values\n",
    "for name in student_profile.values():\n",
    "    print(name)\n",
    "for name, prn in student_profile.items():\n",
    "    print(f\"{name} : {prn}\") \n",
    "    "
   ]
  },
  {
   "cell_type": "code",
   "execution_count": null,
   "id": "6387d8b3-f559-477a-9562-fd1392d038dd",
   "metadata": {},
   "outputs": [],
   "source": []
  }
 ],
 "metadata": {
  "kernelspec": {
   "display_name": "Python 3 (ipykernel)",
   "language": "python",
   "name": "python3"
  },
  "language_info": {
   "codemirror_mode": {
    "name": "ipython",
    "version": 3
   },
   "file_extension": ".py",
   "mimetype": "text/x-python",
   "name": "python",
   "nbconvert_exporter": "python",
   "pygments_lexer": "ipython3",
   "version": "3.13.5"
  },
  "panel-cell-order": [
   "a200f0fd-0ed6-4c2c-9df5-206441aa34da",
   "c066f3d3-592c-4587-977f-a99ca3c9f209",
   "dd342794-ecc6-4323-9267-b09d5e2a871b",
   "44ddad9b-1baa-4a26-8e88-8376d93a3e22",
   "3505139d-a36a-44ec-8023-be4e026657ed",
   "bc4ddecf-f239-4396-b32b-83596bc09a45"
  ],
  "widgets": {
   "application/vnd.jupyter.widget-state+json": {
    "state": {},
    "version_major": 2,
    "version_minor": 0
   }
  }
 },
 "nbformat": 4,
 "nbformat_minor": 5
}
