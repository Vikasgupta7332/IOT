{
 "cells": [
  {
   "cell_type": "code",
   "execution_count": 1,
   "id": "4eb726a7-c25a-4210-9720-769fa341f7f0",
   "metadata": {},
   "outputs": [],
   "source": [
    "sensor_data={\n",
    "    \"sensor_name\":\"DHT33\",\n",
    "    \"temperature\":25,\n",
    "    \"humdity\":50\n",
    "}"
   ]
  },
  {
   "cell_type": "code",
   "execution_count": 2,
   "id": "0c483484-e3d4-4b87-9423-678a85319e02",
   "metadata": {},
   "outputs": [
    {
     "name": "stdout",
     "output_type": "stream",
     "text": [
      "{'sensor_name': 'DHT33', 'temperature': 25, 'humdity': 50}\n"
     ]
    }
   ],
   "source": [
    "print(sensor_data)"
   ]
  },
  {
   "cell_type": "code",
   "execution_count": 3,
   "id": "cf3e1023-11e7-4ceb-a5a0-ee1fca97c70c",
   "metadata": {},
   "outputs": [
    {
     "name": "stdout",
     "output_type": "stream",
     "text": [
      "<class 'dict'>\n"
     ]
    }
   ],
   "source": [
    "print(type(sensor_data))"
   ]
  },
  {
   "cell_type": "code",
   "execution_count": 4,
   "id": "3867ebe0-6e9c-411b-a161-fd43cd0be1a8",
   "metadata": {},
   "outputs": [
    {
     "name": "stdout",
     "output_type": "stream",
     "text": [
      "25\n"
     ]
    }
   ],
   "source": [
    "print(sensor_data[\"temperature\"])"
   ]
  },
  {
   "cell_type": "code",
   "execution_count": null,
   "id": "a3877618-0f42-4f9b-82a4-04ceb0117dc6",
   "metadata": {},
   "outputs": [],
   "source": []
  }
 ],
 "metadata": {
  "kernelspec": {
   "display_name": "Python 3 (ipykernel)",
   "language": "python",
   "name": "python3"
  },
  "language_info": {
   "codemirror_mode": {
    "name": "ipython",
    "version": 3
   },
   "file_extension": ".py",
   "mimetype": "text/x-python",
   "name": "python",
   "nbconvert_exporter": "python",
   "pygments_lexer": "ipython3",
   "version": "3.13.5"
  }
 },
 "nbformat": 4,
 "nbformat_minor": 5
}
